{
  "cells": [
    {
      "cell_type": "code",
      "execution_count": null,
      "metadata": {
        "id": "E5WSZQ1NdMtK"
      },
      "outputs": [],
      "source": [
        "# imprimir un listado con los números del 1 al 100 cada uno con su respectico cuadrado\n",
        "a:int=1\n",
        "def cuadrados(a:int):\n",
        "  while(a<=100):\n",
        "    print(\"el número solicitado es:\",a,\"cuyo respectivo cuadrado es:\",a**2)\n",
        "    a= a+1\n",
        "\n",
        "if __name__==\"__main__\":\n",
        "  c=cuadrados(a)"
      ]
    },
    {
      "cell_type": "code",
      "execution_count": null,
      "metadata": {
        "id": "yFpHtBB1epT_"
      },
      "outputs": [],
      "source": [
        "# imprimir un listado con los números impares desde 1 hasta 999 y seguidamente otro listado con los números pares desde 2 hasta 1000\n",
        "a:int= 1\n",
        "b:int= 2\n",
        "def pares_e_impares(a:int,b:int):\n",
        "  print(\"los números impares desde 1 hasta 999 son:\")\n",
        "  print(a)\n",
        "  while (a<999):\n",
        "    print(a+2)\n",
        "    a=a+2\n",
        "  print(\"los números pares desde 2 hasta 1000 son:\")\n",
        "  print(b)\n",
        "  while (b<1000):\n",
        "    print(b+2)\n",
        "    b=b+2\n",
        "\n",
        "if __name__ == \"__main__\":\n",
        "  pei=pares_e_impares(a,b)"
      ]
    },
    {
      "cell_type": "code",
      "execution_count": 2,
      "metadata": {
        "id": "Vzh53tsxjGRp"
      },
      "outputs": [
        {
          "name": "stdout",
          "output_type": "stream",
          "text": [
            "2\n"
          ]
        }
      ],
      "source": [
        "#Imprimir los números pares en forma descendente hasta 2 que son menores o iguales a un número natural >= 2 dado \n",
        "\n",
        "def pares_mayores_2(a:int):\n",
        "  if (a>=2):\n",
        "    if a%2==0:\n",
        "      print(a)\n",
        "      while(a>2):\n",
        "        print(a-2)\n",
        "        a=a-2\n",
        "    else:\n",
        "      a=a-1\n",
        "      print(a)\n",
        "      while(a>2):\n",
        "        print(a-2)\n",
        "        a=a-2\n",
        "  else:\n",
        "    print(\"introduzca solo números naturales mayores o iguales a 2\")\n",
        "\n",
        "if __name__==\"__main__\":\n",
        "  a= int(input(\"introduzca un número natural mayor o igual a 2:\"))\n",
        "  pm2=pares_mayores_2(a)\n"
      ]
    },
    {
      "cell_type": "code",
      "execution_count": null,
      "metadata": {
        "colab": {
          "base_uri": "https://localhost:8080/"
        },
        "id": "r8cdxOZ8ru4E",
        "outputId": "de6e9d3e-1aaf-4352-dfdb-753e21066581"
      },
      "outputs": [],
      "source": [
        "# en 2022 el país A tendrá una población de 25 millones de habitantes y el país B de 18.9 millones.\n",
        "# las tasas de crecimiento anual de la población serán de 2% y 3% respectivamente.\n",
        "#Desarrollar  un algoritmo para informar en que año la población el país B superara a la de A.\n",
        "\n",
        "a:int=25000000\n",
        "b:int=18900000\n",
        "tc_a:float=0.02\n",
        "tc_b:float=0.03\n",
        "año:int=2022\n",
        "def predicción(a:int,b:int,tc_a:float,tc_b:float,año:int):\n",
        "  while(b<a):\n",
        "    a= a+a*tc_a\n",
        "    b= b+b*tc_b\n",
        "    año= año+1\n",
        "  print(\"el año en el que la población de B superará a la de A será:\",año)\n",
        "  print(\"A contará con una población de:\",a,\"habitantes y B con una población de:\",b,\"habitantes\")\n",
        "\n",
        "if __name__ == \"__main__\":\n",
        "  p=predicción(a,b,tc_a,tc_b,año)"
      ]
    },
    {
      "cell_type": "code",
      "execution_count": null,
      "metadata": {
        "colab": {
          "base_uri": "https://localhost:8080/"
        },
        "id": "sIjB0q64yLCk",
        "outputId": "4e008311-5cd8-4d92-f66f-877a91f6de43"
      },
      "outputs": [],
      "source": [
        "#imprimir el factorial de un número n dado\n",
        "\n",
        "def factorial_casero(n:int):\n",
        "    m=n\n",
        "    if n==0:\n",
        "        return 1\n",
        "    elif (n>0):\n",
        "        while(n>1):\n",
        "            n=n-1\n",
        "            m=m*n\n",
        "    return m\n",
        "\n",
        "if __name__==\"__main__\":\n",
        "  n=int(input(\"introduzca un numero n, para conocer su factorial n!:\"))\n",
        "  f=factorial_casero(n)\n",
        "  if n>=0:\n",
        "    print(\"el factorial del número\",n,\"es:\",f)\n",
        "  else:\n",
        "     print(\"no es posible calcular el factorial de un número negativo\")\n",
        "      \n"
      ]
    },
    {
      "cell_type": "code",
      "execution_count": null,
      "metadata": {
        "colab": {
          "base_uri": "https://localhost:8080/",
          "height": 373
        },
        "id": "yid7fRvDlPpJ",
        "outputId": "5ffc44f8-14a9-4c11-cd50-e68538ff52f7"
      },
      "outputs": [],
      "source": [
        "#Implementar un algoritmo que permita adivinar un número dado de 1 a 100, preguntando en cada caso si el número es mayor, menor o igual.\n",
        "m:int=90\n",
        "def adivinador(n:str,m:int):\n",
        "  if n==\"<\":\n",
        "    print(\"no se pueden usar números mayores a 100, por favor intente de nuevo\")\n",
        "  else:\n",
        "    while n==\">\" and m>0:\n",
        "      print(\"¿es el número\",m,\"mayor, menor o igual a su número escogido?\")\n",
        "      n=input(\":\")\n",
        "      m=m-10\n",
        "      if not n==\">\": break\n",
        "      if m==10: m=m-9\n",
        "    m=m+10\n",
        "    if n==\"<\":\n",
        "      m=m+1\n",
        "      while n==\"<\":\n",
        "        print(\"¿es el número\",m,\" menor o igual a su número escogido?\")\n",
        "        n=input(\":\")\n",
        "        m=m+1\n",
        "        if m>100: break\n",
        "        if n==\">\":\n",
        "          print(\"tal vez se equivocó de signo, por favor intente de nuevo\")\n",
        "        if n==\"=\":break\n",
        "      m=m-1\n",
        "      print(\"su número escogido es el número\",m)\n",
        "    else:\n",
        "        print(\"su número escogido es el número\",m)\n",
        "\n",
        "if __name__==\"__main__\":\n",
        "  print(\"por favor solo introduzca respuestas de <, > o =\")\n",
        "  n=input(\"¿El número 100 es mayor o igual a su número escogido?: \")\n",
        "  adivinador(n,m)"
      ]
    },
    {
      "cell_type": "code",
      "execution_count": null,
      "metadata": {
        "colab": {
          "base_uri": "https://localhost:8080/"
        },
        "id": "xOnOpyLNrt4F",
        "outputId": "022184f7-244c-44ff-f0b3-53256cdff4a6"
      },
      "outputs": [],
      "source": [
        "# implementar un programa que ingrese un número de 2 a 50 y muestre sus divisores\n",
        "# apunte importante: todos los números naturales se pueden interpretar como la multiplicación de sus divisores primos\n",
        "# en lo anterior se basa el minímo común múltiplo\n",
        "#al aplicar el m.c.m a 50, se obtiene que sus divisores primos son:2 y 5, por ende, sus divisores son 2, 5, 25 y 10\n",
        "#(aunque también el mismo 50 y el 1)\n",
        "x:int=1\n",
        "def divisores(n:int,x:int):\n",
        "  if (n<=50 and n>=2):\n",
        "    print(\"los divisores del número\",n,\"son:\")\n",
        "    while(x<=n):\n",
        "      r:int= n/x#aquí se dividira a n por todos los números hasta n\n",
        "      if (n%x==0): print(r)#aquí se imprimiran solo los divisores, ya que solo estos dan divisiones exactas\n",
        "      x=x+1\n",
        "  else:\n",
        "    print(\"introduzca solo números entre 2 y 50\")\n",
        "\n",
        "if __name__ ==\"__main__\":\n",
        "  n=int(input(\"ingrese un número entre 2 y 50:\"))\n",
        "  divisores(n,x)"
      ]
    },
    {
      "cell_type": "code",
      "execution_count": null,
      "metadata": {
        "colab": {
          "base_uri": "https://localhost:8080/"
        },
        "id": "lTx8NK6ASIuF",
        "outputId": "80695c3a-f41f-4023-8948-9bb2ada58237"
      },
      "outputs": [],
      "source": [
        "#implementar el algoritmo que muestre los números primos del 1 al 100. Nota: Use funciones\n",
        "\n",
        "# vamos a hacerlo de una forma que saldrá, aunque puede ser un poquito trampa\n",
        "# tras echar un repasito, es posible afirmar lo siguiente:\n",
        "# si no se han encontrado divisores hasta la raíz cuadrada de un número:\n",
        "#el número es primo\n",
        "#aquí el máximo número es 100\n",
        "#la raíz cuadrada de 100 es 10\n",
        "#por ende, solo es necesario conocer si hay divisores de un número hasta 10\n",
        "# y estos divisores solo pueden ser los números primos: 2,3,5 y 7\n",
        "#(por esto ultimo digo que es medio trampa, y es que ya sabemos de antemano que 2, 3, 5 y 7 son primos)\n",
        "\n",
        "def mult_2(n:int):\n",
        "    if not(n%2==0) or n==2:\n",
        "        return True\n",
        "    else:\n",
        "        return False\n",
        "def mult_3(n:int):\n",
        "    if not(n%3==0) or n<=3:\n",
        "        return True\n",
        "    else:\n",
        "        return False\n",
        "def mult_5(n:int):\n",
        "    if not(n%5==0) or n<=5:\n",
        "        return True\n",
        "    else:\n",
        "        return False\n",
        "def mult_7(n:int):\n",
        "    if not(n%7==0) or n<=7:\n",
        "        return True\n",
        "    else:\n",
        "        return False\n",
        "\n",
        "if __name__ == \"__main__\":\n",
        "  n:int=2 # los números primos empiezan desde el 2 porque el 1 no es primo\n",
        "  print(\"los números primos hasta el 100 son:\")\n",
        "  while (n<100):\n",
        "    m2:bool=mult_2(n)\n",
        "    m3:bool=mult_3(n)\n",
        "    m5:bool=mult_5(n)\n",
        "    m7:bool=mult_7(n)\n",
        "    if m2==True and m3==True and m5==True and m7==True:\n",
        "    #si el número no es multiplo ni de 2, ni de 3, ni de 5, ni de 7, será primo.\n",
        "        print(n)\n",
        "    n=n+1\n"
      ]
    }
  ],
  "metadata": {
    "colab": {
      "provenance": []
    },
    "kernelspec": {
      "display_name": "Python 3",
      "name": "python3"
    },
    "language_info": {
      "codemirror_mode": {
        "name": "ipython",
        "version": 3
      },
      "file_extension": ".py",
      "mimetype": "text/x-python",
      "name": "python",
      "nbconvert_exporter": "python",
      "pygments_lexer": "ipython3",
      "version": "3.12.2"
    }
  },
  "nbformat": 4,
  "nbformat_minor": 0
}
